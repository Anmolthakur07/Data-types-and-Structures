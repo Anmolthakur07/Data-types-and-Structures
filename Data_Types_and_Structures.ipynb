{
  "nbformat": 4,
  "nbformat_minor": 0,
  "metadata": {
    "colab": {
      "provenance": []
    },
    "kernelspec": {
      "name": "python3",
      "display_name": "Python 3"
    },
    "language_info": {
      "name": "python"
    }
  },
  "cells": [
    {
      "cell_type": "markdown",
      "source": [
        "# Data Types and Structures\n"
      ],
      "metadata": {
        "id": "O9ReiZ9wIjcj"
      }
    },
    {
      "cell_type": "markdown",
      "source": [
        "1. What are data structures, and why are they important?\n",
        "   - Data structures are ways to organize and store data in a computer. They are essential for computer science and programming because they help make data more accessible and efficient to use.\n",
        "   - Why are data structures important?\n",
        "   - Improve efficiency:\n",
        "   - Make data easier to use:\n",
        "   - Make data easier to understand:\n",
        "   - Enable higher-level data operations:\n",
        "2.  Explain the difference between mutable and immutable data types with        examples.\n",
        "   - In programming, data types can be classified as either mutable or immutable based on whether their state (or value) can be changed after they are created.\n",
        "   # Mutable Data Types:\n",
        "   -  Mutable data types are objects whose state or value can be modified after they are created.\n",
        "   - Common mutable data types in Python:\n",
        "   - Lists.\n",
        "   - Dictionaries.\n",
        "   - Sets.\n",
        "   - Byte Arrays."
      ],
      "metadata": {
        "id": "niVTtEHKJqMv"
      }
    },
    {
      "cell_type": "code",
      "source": [
        "#Example of a Mutable Data Type.\n",
        "my_list = [1, 2, 3]\n",
        "print(my_list)\n",
        "\n",
        "my_list.append(4)\n",
        "print(my_list)\n"
      ],
      "metadata": {
        "colab": {
          "base_uri": "https://localhost:8080/"
        },
        "id": "-cAJhyncM2ET",
        "outputId": "e25c169d-4ea2-4bea-eee3-5954bedaf85a"
      },
      "execution_count": 1,
      "outputs": [
        {
          "output_type": "stream",
          "name": "stdout",
          "text": [
            "[1, 2, 3]\n",
            "[1, 2, 3, 4]\n"
          ]
        }
      ]
    },
    {
      "cell_type": "markdown",
      "source": [
        "# Immutable Data Types:\n",
        "  - Immutable data types are objects whose state or value cannot be changed after they are created.\n",
        "  - Common immutable data types in Python:\n",
        "  - Integers (int)\n",
        "  - Floating-point numbers (float)\n",
        "  - Strings (str)\n",
        "  - Tuples (tuple)\n",
        "  - Frozen Sets (frozenset)\n",
        "  - Bytes (bytes)\n",
        "   \n"
      ],
      "metadata": {
        "id": "7YUtWadfNEMy"
      }
    },
    {
      "cell_type": "code",
      "source": [
        "#Example of an Immutable Data Type\n",
        "my_string = \"Hello\"\n",
        "print(my_string)\n",
        "my_string += \" World\"\n",
        "print(my_string)"
      ],
      "metadata": {
        "colab": {
          "base_uri": "https://localhost:8080/"
        },
        "id": "iqBujzxKPRKs",
        "outputId": "de622150-75f0-4966-a894-5cb75d999a1b"
      },
      "execution_count": 2,
      "outputs": [
        {
          "output_type": "stream",
          "name": "stdout",
          "text": [
            "Hello\n",
            "Hello World\n"
          ]
        }
      ]
    },
    {
      "cell_type": "markdown",
      "source": [
        "3. What are the main differences between lists and tuples in Python?\n",
        " - In Python, lists and tuples are both used to store collections of items, but they have key differences in terms of mutability, syntax, performance, and use cases.\n",
        " - 1. Syntax:\n",
        " - List: Lists are created using square brackets[].\n",
        " - Tuple: Tuples are created using parentheses().\n",
        " - 2. Mutability:\n",
        " - List: Lists are mutable, which means you can modify, add, or remove elements after the list is created. You can use methods like append(), extend(), insert(), remove(), and pop() to modify a list.\n",
        " - Tuple: Tuples are immutable. Once a tuple is created, you cannot change its elements. You cannot add, remove, or modify elements in a tuple.\n",
        " - 3. Memory:\n",
        " - Lists: Lists are generally more memory-intensive than tuples because lists are mutable. Lists can dynamically grow or shrink, and this flexibility comes with a slightly higher memory overhead.\n",
        " - Tuples: Tuples are more memory-efficient compared to lists. Once a tuple is created, its size remains fixed.\n",
        " - 4. Usability:\n",
        " - List: Use lists when you have a collection of items that may need to be modified, and you need a dynamic data structure.\n",
        "\n",
        " - Tuple: Use tuples when you want to create a collection of items that should remain constant throughout the program, and you want to ensure data integrity.\n",
        "\n",
        "4. Describe how dictionaries store data.\n",
        " - A dictionary in Python is a collection of key-value pairs, stored in an unordered, mutable, and efficient way using a hash table.\n",
        " - How dictionaries store data:\n",
        " - 1. Key-Value Pairs\n",
        " - A dictionary stores data as a collection of key-value pairs.\n",
        " - Each key is unique and acts as an identifier for its corresponding value.\n",
        " - Keys and values can be of any data type, but keys must be immutable (e.g., integers, strings, tuples).\n",
        " - 2. Hash Tables Under the Hood\n",
        " - Dictionaries are implemented using a data structure called a hash table.\n",
        " - A hash table is a highly efficient data structure that allows for fast lookups, insertions, and deletions.\n",
        " - 3. Characteristics of Dictionaries\n",
        "Unordered (Before Python 3.7):\n",
        " - In Python versions before 3.7, dictionaries were unordered, meaning the order of key-value pairs was not guaranteed.\n",
        " - Ordered (Python 3.7+):\n",
        " - Starting from Python 3.7, dictionaries maintain insertion order, meaning the order in which key-value pairs are added is preserved.\n",
        " - Dynamic:\n",
        " - Dictionaries can grow or shrink in size as key-value pairs are added or removed.\n",
        " - Mutable:\n",
        " - You can add, modify, or remove key-value pairs after the dictionary is created.\n",
        " - 4. Memory Efficiency.\n",
        " - Dictionaries are memory-efficient for storing large amounts of data because they use hash tables, which minimize the time required to locate values.\n",
        " - they consume more memory than lists or tuples due to the overhead of storing keys and hash values.\n",
        "5. Why might you use a set instead of a list in Python?\n",
        " - In Python sets and lists are both used to store collections of items, but they serve different purposes and have distinct characteristics.\n",
        " - 1. Uniqueness of Elements\n",
        "Sets:\n",
        " - Sets automatically enforce uniqueness, meaning they cannot contain duplicate elements.\n",
        " - If you try to add a duplicate element to a set, it will be ignored.\n",
        " - Lists:\n",
        " - Lists allow duplicate elements.\n",
        " - 2. Membership Testing\n",
        "Sets:\n",
        " - Sets are optimized for fast membership testing (checking whether an element is in the set).\n",
        " - This is because sets use a hash table internally, allowing for O(1) average time complexity for lookups.\n",
        " - Lists:\n",
        " - Lists are not optimized for membership testing. Checking whether an element is in a list requires O(n) time complexity in the worst case.\n",
        " - 3. Mathematical Set Operations\n",
        "Sets:\n",
        " - Sets support mathematical set operations like union, intersection, difference, and symmetric difference.\n",
        " - Lists:\n",
        " - Lists do not support these operations natively. You would need to write custom code or convert lists to sets.\n",
        " - 4. Ordering Sets:\n",
        " - Sets are unordered, meaning they do not maintain the order of elements.\n",
        "python\n",
        " - Lists:\n",
        " - Lists are ordered, meaning they maintain the insertion order of elements.\n",
        " - 5. Performance for Large Data Sets:\n",
        " - Sets are more efficient than lists for large datasets when performing operations like membership testing or removing duplicates.\n",
        " - Lists:\n",
        " - Lists can become inefficient for large datasets, especially for operations like membership testing or removing duplicates.\n",
        " - 6. Removing Duplicates Sets:\n",
        " - Sets are often used to remove duplicates from a collection.\n",
        " - Lists:\n",
        " - Lists require additional code to remove duplicates, such as using a loop or converting to a set and back to a list.\n",
        " - 7. Memory Usage\n",
        " - Sets:\n",
        " - Sets typically use more memory than lists because they need to store hash values for each element.\n",
        " - Lists:\n",
        " - Lists use less memory than sets but may become inefficient for certain operations.\n",
        "6. What is a string in Python, and how is it different from a list?\n",
        " - A string is a sequence of characters enclosed in single quotes (' '), double quotes (\" \"), or triple quotes (''' ''' or \"\"\" \"\"\").\n",
        "Strings are immutable, meaning their contents cannot be changed after they are created.\n",
        " - 1. Mutability\n",
        " - Strings:\n",
        " - Strings are immutable, meaning you cannot change their contents after creation.\n",
        " - Any operation that seems to modify a string actually creates a new string.\n",
        " - Lists:\n",
        " - Lists are mutable, meaning you can change their contents after creation.\n",
        " - 2. Syntax:\n",
        " - Strings:\n",
        " - Strings are enclosed in quotes.\n",
        " - Lists:\n",
        " - Lists are enclosed in square brackets [].\n",
        " - 3. Elements:\n",
        " - Strings:\n",
        " - Strings consist of characters.\n",
        " - Lists:\n",
        " - Lists can contain any data type, including numbers, strings, objects, or even other lists.\n",
        " - 4. Common Operations:\n",
        " - Strings:\n",
        " - Strings support operations like concatenation, slicing, and formatting.\n",
        " - Lists:\n",
        " - Lists support operations like appending, removing, slicing, and sorting.\n",
        " - 5. Use Cases:\n",
        " - Strings:\n",
        "\n",
        "  - Strings are used for text processing, such as manipulating and analyzing text data.\n",
        "\n",
        "  - Common use cases include:\n",
        "\n",
        "    - Reading and writing text files.\n",
        "\n",
        "    - Parsing and formatting data (e.g., JSON, CSV).\n",
        "\n",
        "    - Building and manipulating messages or outputs.\n",
        " - Lists:\n",
        "\n",
        " - Lists are used for storing collections of items that may need to be modified or processed.\n",
        " - Common use cases include:\n",
        "    - Storing dynamic data (e.g., user inputs, results from a database).\n",
        "    - Implementing stacks, queues, or other data structures.\n",
        "    - Grouping related data together.\n",
        "- 6. Memory and Performance\n",
        "  - Strings:\n",
        "  - Strings are generally more memory-efficient than lists for storing text data.\n",
        "  - because strings are immutable, operations that modify strings (e.g., concatenation) can create new objects, which may impact performance for large-scale operations.\n",
        "\n",
        "- Lists:\n",
        "  - Lists are more flexible but may consume more memory, especially for large collections.\n",
        "  - They are optimized for dynamic modifications, making them efficient for frequent updates.\n",
        "7. How do tuples ensure data integrity in Python?  \n",
        " - A tuple is an immutable sequence in Python, meaning its contents cannot be modified after creation. This immutability plays a key role in ensuring data integrity by preventing accidental or unintended changes.\n",
        "8. What is a hash table, and how does it relate to dictionaries in Python?\n",
        " - A hash table (also called a hash map) is a data structure that stores key-value pairs using a hash function to compute an index (or bucket) where each value is stored. This enables fast lookups, insertions, and deletions with an average time complexity of O(1).\n",
        " - How Does a Hash Table Work?\n",
        "  - 1. Hashing the Key:\n",
        "    - A key is passed through a hash function (hash()) that generates a unique integer called a hash value.\n",
        "  - 2. Index Calculation:\n",
        "    - The hash value is mapped to an index in an array (hash table).\n",
        "  - 3. Storing the Key-Value Pair:\n",
        "    - The key-value pair is stored at the calculated index.\n",
        "  - 4. Handling Collisions:\n",
        "    - If two keys generate the same index (collision), Python resolves this using probing or chaining.    \n",
        "9. Can lists contain different data types in Python?\n",
        "  - Yes! In Python, a list is a heterogeneous data structure, meaning it can store elements of different data types within the same list.\n",
        "10.  Explain why strings are immutable in Python?\n",
        "  - In Python, strings are immutable, meaning they cannot be changed after creation. If you try to modify a string, Python creates a new string instead of altering the original one.\n",
        "       - Strings Use Immutable Memory Storage.  \n",
        "       - Performance Optimization (String Interning).\n",
        "       - Security & Hashing (String as Dictionary Keys).\n",
        "       - Thread Safety.\n",
        "11. What advantages do dictionaries offer over lists for certain tasks?\n",
        "  - Dictionaries (dict) and lists (list) are both fundamental data structures in Python, but dictionaries offer several advantages over lists for tasks involving key-value mappings, fast lookups, and data organization.\n",
        "       - Faster Lookups (O(1) vs O(n)).\n",
        "       - Key-Value Pair Storage (Better Organization).\n",
        "       - No Need for Manual Indexing.\n",
        "       - Dynamic & Flexible Data Storage.\n",
        "       - Dictionary Keys Must Be Unique (Avoids Duplicates).\n",
        "12. Describe a scenario where using a tuple would be preferable over a list.\n",
        "  - Scenario Where a Tuple is Preferable Over a List\n",
        "  A tuple is preferable over a list when immutability, performance, or data integrity is required.\n",
        "   - Scenario: Storing GPS Coordinates (Latitude, Longitude)\n",
        "       - Immutability: GPS coordinates should not change accidentally.  \n",
        "       - Memory Efficiency: Tuples use less memory than lists, improving performance.\n",
        "       - Hashability: Tuples can be used as dictionary keys while lists cannot.\n",
        "13. How do sets handle duplicate values in Python?\n",
        "  - In Python, sets automatically remove duplicate values. When you add duplicate elements to a set, only unique values are stored, ensuring no repetitions.\n",
        "      - Sets Store Only Unique Elements.\n",
        "      - Adding Duplicate Elements Has No Effect.\n",
        "      - Sets Can Be Used to Remove Duplicates from Lists.\n",
        "      - Unordered and Unindexed Nature of Sets.\n",
        "14.  How does the “in” keyword work differently for lists and dictionaries?\n",
        "  - The in keyword is used to check membership (i.e., whether an element exists in a collection). However, it works differently for lists and dictionaries in terms of performance and what it checks.\n",
        "      - in with Lists (Linear Search - O(n)).\n",
        "      - in with Dictionaries (Hash Lookup - O(1)).\n",
        "      - Checking Dictionary Values Instead of Keys.\n",
        "      - Checking Dictionary Key-Value Pairs.\n",
        "15.  Can you modify the elements of a tuple? Explain why or why not?\n",
        "  - No, you cannot modify the elements of a tuple in Python because tuples are immutable. This means that once a tuple is created, you cannot add, remove, or change its elements.\n",
        "  - Explanation:\n",
        "      - Tuples are different from lists, which are mutable and can be modified.\n",
        "      - Tuples are more memory-efficient than lists.\n",
        "      - If you try to modify a tuple element, you'll get a TypeError error.\n",
        "      - You can concatenate two or more tuples to create a new tuple.\n",
        "      - If a tuple element is a mutable data type, like a list, you can change its nested components.       \n",
        "16. What is a nested dictionary, and give an example of its use case?\n",
        "  - A nested dictionary is a dictionary inside another dictionary. It allows you to store data in a hierarchical or structured way.\n",
        "      - Use Case: Storing Student Records:\n",
        "      A school system might use a nested dictionary to store information about multiple students, where each student has details like name, age, and grades.\n",
        "             \n",
        "\n",
        "\n",
        "\n",
        "           "
      ],
      "metadata": {
        "id": "ANfPAe3aPkpY"
      }
    },
    {
      "cell_type": "code",
      "source": [
        "# Example: Nested Dictionary for Student Records\n",
        "students = {\n",
        "    \"student1\": {\"name\": \"Alice\", \"age\": 20, \"grades\": {\"math\": 90, \"science\": 85}},\n",
        "    \"student2\": {\"name\": \"Bob\", \"age\": 22, \"grades\": {\"math\": 88, \"science\": 92}},\n",
        "}\n",
        "\n",
        "print(students[\"student1\"][\"name\"])\n",
        "\n",
        "print(students[\"student2\"][\"grades\"][\"math\"])\n"
      ],
      "metadata": {
        "colab": {
          "base_uri": "https://localhost:8080/"
        },
        "id": "sEAQgw1QB1VC",
        "outputId": "b8ddcec4-5cc1-484c-9290-f45dbf69dc68"
      },
      "execution_count": 3,
      "outputs": [
        {
          "output_type": "stream",
          "name": "stdout",
          "text": [
            "Alice\n",
            "88\n"
          ]
        }
      ]
    },
    {
      "cell_type": "markdown",
      "source": [
        "17. Describe the time complexity of accessing elements in a dictionary?\n",
        " - Time Complexity of Accessing Elements in a Dictionary (dict) in Python.\n",
        "       - 1 Average Case: O(1) (Constant Time)\n",
        "  - Dictionaries in Python use a hash table, meaning that accessing an element by its key is very fast (O(1)).\n",
        "  - This is because Python computes a hash value for the key and looks up the corresponding value in constant time.\n",
        "       - 2 Worst Case: O(n) (When Hash Collisions Occur)\n",
        "  - In rare cases, hash collisions can cause multiple keys to be stored in the same hash bucket.\n",
        "  - This forces Python to perform a linear search (O(n)) within that bucket.\n",
        "18. In what situations are lists preferred over dictionaries?\n",
        " - Lists and dictionaries serve different purposes in Python.\n",
        "       - Order Matters (Maintaining Sequence).\n",
        "       - When You Need Index-Based Access.\n",
        "       - When You Don't Need Key-Value Pairs.\n",
        "       - When You Need Iteration Speed (O(n)).\n",
        "       - When Storage Efficiency Matters.\n",
        "19. Why are dictionaries considered unordered, and how does that affect data retrieval?\n",
        "  - Dictionaries are considered unordered because they don't maintain the order in which items are added. This means that when you loop through a dictionary, you won't get the keys in any particular order.\n",
        "       - How does this affect data retrieval:\n",
        "    - Because dictionaries are unordered, you can't refer to an item by using an index, like you can with a list.\n",
        "    - dictionaries are optimized for fast storage and retrieval based on key. For example, you can use the key \"name\" to quickly retrieve the value of an astronaut's name without needing to search through the data collection.\n",
        "20. Explain the difference between a list and a dictionary in terms of data retrieval.\n",
        " - lists and dictionaries are both used to store collections of data, but they differ significantly in how they organize and retrieve data. Here's a detailed comparison of their data retrieval mechanisms:\n",
        "       - 1. Data Organization:\n",
        "        - Lists:\n",
        "        - Lists store elements in an ordered sequence, where each element is assigned an index (starting from 0).\n",
        "        - Dictionaries:\n",
        "        - Dictionaries store data as key-value pairs, where each value is associated with a unique key.\n",
        "      - 2. Data Retrieval:\n",
        "        - Lists:\n",
        "        - Lists retrieve data using integer indices.\n",
        "        - Retrieval is based on the position of the element in the list.\n",
        "\n",
        "      - 3. Time Complexity:\n",
        "        - Retrieving an element by index is O(1) because lists are implemented as dynamic arrays, and accessing an element by its index is a direct operation.\n",
        "\n",
        "      - Dictionaries:\n",
        "        - Dictionaries retrieve data using keys.\n",
        "        - Retrieval is based on the key associated with the value.\n",
        "\n",
        "      - 4. Use Cases for Data Retrieval\n",
        "        - Lists:\n",
        "        - Use lists when you need to access elements by their position or index.\n",
        "\n",
        "      - Example use cases:\n",
        "\n",
        "        - Iterating over a sequence of items.\n",
        "\n",
        "        - Accessing elements in a specific order (e.g., first, last, or middle element).\n",
        "\n",
        "        - Storing ordered data like time-series data or rankings.\n",
        "\n",
        "        - Dictionaries:\n",
        "        - Use dictionaries when you need to access elements by a unique key.\n",
        "\n",
        "     - Example use cases:\n",
        "\n",
        "        - Storing and retrieving data with unique identifiers (e.g., user IDs, product codes).\n",
        "\n",
        "        - Fast lookups for specific values based on keys.\n",
        "\n",
        "        - Representing structured data (e.g., JSON-like data).\n",
        "\n",
        "      "
      ],
      "metadata": {
        "id": "05cvN7YaCEmG"
      }
    },
    {
      "cell_type": "markdown",
      "source": [
        "# Practical Questions:"
      ],
      "metadata": {
        "id": "UO8v8eNxMSpK"
      }
    },
    {
      "cell_type": "code",
      "source": [
        "1. # Creating a string with my name\n",
        "my_name = \"Anmol Thakur\"\n",
        "\n",
        "print(my_name)\n"
      ],
      "metadata": {
        "colab": {
          "base_uri": "https://localhost:8080/"
        },
        "id": "4MI6pSjSMbkK",
        "outputId": "1e96f2a2-405b-4dfa-88a4-0f7788a2e619"
      },
      "execution_count": 4,
      "outputs": [
        {
          "output_type": "stream",
          "name": "stdout",
          "text": [
            "Anmol Thakur\n"
          ]
        }
      ]
    },
    {
      "cell_type": "code",
      "source": [
        "2. # Write a code to find the length of the string \"Hello World\".\n",
        "# Define the string\n",
        "my_string = \"Hello World\"\n",
        "length = len(my_string)\n",
        "print(\"Length of the string:\", length)\n"
      ],
      "metadata": {
        "colab": {
          "base_uri": "https://localhost:8080/"
        },
        "id": "kfnrs9s7M346",
        "outputId": "9660d47f-1513-4b27-fe2a-b2543a972766"
      },
      "execution_count": 6,
      "outputs": [
        {
          "output_type": "stream",
          "name": "stdout",
          "text": [
            "Length of the string: 11\n"
          ]
        }
      ]
    },
    {
      "cell_type": "code",
      "source": [
        "3. # Write a code to slice the first 3 characters from the string \"Python Programming\".\n",
        "my_string = \"Python Programming\"\n",
        "sliced_string = my_string[:3]\n",
        "print(sliced_string)\n"
      ],
      "metadata": {
        "colab": {
          "base_uri": "https://localhost:8080/"
        },
        "id": "vXK6LQc0NRLt",
        "outputId": "55251daf-93a1-4ef2-8665-810737f793b4"
      },
      "execution_count": 7,
      "outputs": [
        {
          "output_type": "stream",
          "name": "stdout",
          "text": [
            "Pyt\n"
          ]
        }
      ]
    },
    {
      "cell_type": "code",
      "source": [
        "4. #Write a code to convert the string \"hello\" to uppercase.\n",
        "my_string = \"hello\"\n",
        "uppercase_string = my_string.upper()\n",
        "print(uppercase_string)\n"
      ],
      "metadata": {
        "colab": {
          "base_uri": "https://localhost:8080/"
        },
        "id": "PA5j0uWZNnxz",
        "outputId": "38d5995b-8059-44e6-bc64-2f98afbca734"
      },
      "execution_count": 9,
      "outputs": [
        {
          "output_type": "stream",
          "name": "stdout",
          "text": [
            "HELLO\n"
          ]
        }
      ]
    },
    {
      "cell_type": "code",
      "source": [
        "5. #Write a code to replace the word \"apple\" with \"orange\" in the string \"I like apple\"\n",
        "my_string = \"I like apple\"\n",
        "new_string = my_string.replace(\"apple\", \"orange\")\n",
        "print(new_string)"
      ],
      "metadata": {
        "colab": {
          "base_uri": "https://localhost:8080/"
        },
        "id": "Ndf5V4lAOBma",
        "outputId": "16ecc512-2e3e-4af9-befd-7029adea37cf"
      },
      "execution_count": 10,
      "outputs": [
        {
          "output_type": "stream",
          "name": "stdout",
          "text": [
            "I like orange\n"
          ]
        }
      ]
    },
    {
      "cell_type": "code",
      "source": [
        "6.#Write a code to create a list with numbers 1 to 5 and print it.\n",
        "my_list = [1, 2, 3, 4, 5]\n",
        "print(my_list)"
      ],
      "metadata": {
        "colab": {
          "base_uri": "https://localhost:8080/"
        },
        "id": "w4zVFD74PP9x",
        "outputId": "e12fa2dd-6184-4cff-a56f-c2f4dd78abf1"
      },
      "execution_count": 11,
      "outputs": [
        {
          "output_type": "stream",
          "name": "stdout",
          "text": [
            "[1, 2, 3, 4, 5]\n"
          ]
        }
      ]
    },
    {
      "cell_type": "code",
      "source": [
        "7.#Write a code to append the number 10 to the list [1, 2, 3, 4].\n",
        "my_list = [1, 2, 3, 4]\n",
        "my_list.append(10)\n",
        "print(my_list)"
      ],
      "metadata": {
        "colab": {
          "base_uri": "https://localhost:8080/"
        },
        "id": "vAeWsn76Pm-7",
        "outputId": "9cc0e907-f5bc-4946-e073-ea56c5bf924b"
      },
      "execution_count": 12,
      "outputs": [
        {
          "output_type": "stream",
          "name": "stdout",
          "text": [
            "[1, 2, 3, 4, 10]\n"
          ]
        }
      ]
    },
    {
      "cell_type": "code",
      "source": [
        "8. #Write a code to remove the number 3 from the list [1, 2, 3, 4, 5].\n",
        "my_list = [1, 2, 3, 4, 5]\n",
        "my_list.remove(3)\n",
        "print(my_list)"
      ],
      "metadata": {
        "colab": {
          "base_uri": "https://localhost:8080/"
        },
        "id": "Z0rICB38Pyj0",
        "outputId": "0f0c989b-c707-4932-c6a5-0bf41ecbf72a"
      },
      "execution_count": 13,
      "outputs": [
        {
          "output_type": "stream",
          "name": "stdout",
          "text": [
            "[1, 2, 4, 5]\n"
          ]
        }
      ]
    },
    {
      "cell_type": "code",
      "source": [
        "9. #Write a code to access the second element in the list ['a', 'b', 'c', 'd'].\n",
        "my_list = ['a', 'b', 'c', 'd']\n",
        "second_element = my_list[1]\n",
        "print(second_element)"
      ],
      "metadata": {
        "colab": {
          "base_uri": "https://localhost:8080/"
        },
        "id": "kysdbP8zP8AP",
        "outputId": "452252e3-09c5-46e2-f346-6a7bc0f1a4e7"
      },
      "execution_count": 14,
      "outputs": [
        {
          "output_type": "stream",
          "name": "stdout",
          "text": [
            "b\n"
          ]
        }
      ]
    },
    {
      "cell_type": "code",
      "source": [
        "10. #Write a code to reverse the list [10, 20, 30, 40, 50].\n",
        "my_list = [10, 20, 30, 40, 50]\n",
        "reversed_list = my_list[::-1]\n",
        "print(reversed_list)"
      ],
      "metadata": {
        "colab": {
          "base_uri": "https://localhost:8080/"
        },
        "id": "aUgJS6Y8QK30",
        "outputId": "022a8487-ce14-403f-d86e-a468221a48e0"
      },
      "execution_count": 15,
      "outputs": [
        {
          "output_type": "stream",
          "name": "stdout",
          "text": [
            "[50, 40, 30, 20, 10]\n"
          ]
        }
      ]
    },
    {
      "cell_type": "code",
      "source": [
        "11. # Write a code to create a tuple with the elements 100, 200, 300 and print it.\n",
        "my_tuple = (100, 200, 300)\n",
        "print(my_tuple)"
      ],
      "metadata": {
        "colab": {
          "base_uri": "https://localhost:8080/"
        },
        "id": "5-CME8OBQdmh",
        "outputId": "a91c923b-cbf9-4173-c03a-d185e7149f45"
      },
      "execution_count": 16,
      "outputs": [
        {
          "output_type": "stream",
          "name": "stdout",
          "text": [
            "(100, 200, 300)\n"
          ]
        }
      ]
    },
    {
      "cell_type": "code",
      "execution_count": 17,
      "metadata": {
        "colab": {
          "base_uri": "https://localhost:8080/"
        },
        "id": "3nGZxUX8Gn7D",
        "outputId": "08b3818a-59bf-4f3c-e8e4-d65237a61879"
      },
      "outputs": [
        {
          "output_type": "stream",
          "name": "stdout",
          "text": [
            "blue\n"
          ]
        }
      ],
      "source": [
        "12.# Write a code to access the second-to-last element of the tuple ('red', 'green', 'blue', 'yellow').\n",
        "my_tuple = ('red', 'green', 'blue', 'yellow')\n",
        "second_to_last_element = my_tuple[-2]\n",
        "print(second_to_last_element)"
      ]
    },
    {
      "cell_type": "code",
      "source": [
        "13. #Write a code to find the minimum number in the tuple (10, 20, 5, 15).\n",
        "my_tuple = (10, 20, 5, 15)\n",
        "minimum_number = min(my_tuple)\n",
        "print(minimum_number)"
      ],
      "metadata": {
        "colab": {
          "base_uri": "https://localhost:8080/"
        },
        "id": "vYCWuqY-RBL3",
        "outputId": "310b7a88-d208-4ffc-91a6-df0cfd592bed"
      },
      "execution_count": 18,
      "outputs": [
        {
          "output_type": "stream",
          "name": "stdout",
          "text": [
            "5\n"
          ]
        }
      ]
    },
    {
      "cell_type": "code",
      "source": [
        "14. # Write a code to find the index of the element \"cat\" in the tuple ('dog', 'cat', 'rabbit').\n",
        "my_tuple = ('dog', 'cat', 'rabbit')\n",
        "index_of_cat = my_tuple.index('cat')\n",
        "print(index_of_cat)\n",
        "#"
      ],
      "metadata": {
        "colab": {
          "base_uri": "https://localhost:8080/"
        },
        "id": "2mD-Kc2-RKNo",
        "outputId": "bda117b2-b08b-4849-bfe1-abc877b979b5"
      },
      "execution_count": 19,
      "outputs": [
        {
          "output_type": "stream",
          "name": "stdout",
          "text": [
            "1\n"
          ]
        }
      ]
    },
    {
      "cell_type": "code",
      "source": [
        "15. # Write a code to create a tuple containing three different fruits and check if \"kiwi\" is in it.\n",
        "fruits_tuple = (\"apple\", \"banana\", \"cherry\")\n",
        "if \"kiwi\" in fruits_tuple:\n",
        "    print(\"kiwi is in the tuple\")\n",
        "else:\n",
        "    print(\"kiwi is not in the tuple\")"
      ],
      "metadata": {
        "colab": {
          "base_uri": "https://localhost:8080/"
        },
        "id": "MnUA8r1QRbFU",
        "outputId": "00e615d6-cf53-4227-861e-57ee97669531"
      },
      "execution_count": 20,
      "outputs": [
        {
          "output_type": "stream",
          "name": "stdout",
          "text": [
            "kiwi is not in the tuple\n"
          ]
        }
      ]
    },
    {
      "cell_type": "code",
      "source": [
        "16. #Write a code to create a set with the elements 'a', 'b', 'c' and print it.\n",
        "\n",
        "my_set = {'a', 'b', 'c'}\n",
        "print(my_set)\n"
      ],
      "metadata": {
        "colab": {
          "base_uri": "https://localhost:8080/"
        },
        "id": "T4gR7BaDRkK4",
        "outputId": "35967d3f-dd67-44ec-d518-ddaa892c4b24"
      },
      "execution_count": 21,
      "outputs": [
        {
          "output_type": "stream",
          "name": "stdout",
          "text": [
            "{'c', 'b', 'a'}\n"
          ]
        }
      ]
    },
    {
      "cell_type": "code",
      "source": [
        "17. #Write a code to clear all elements from the set {1, 2, 3, 4, 5}.\n",
        "my_set = {1, 2, 3, 4, 5}\n",
        "my_set.clear()\n",
        "print(my_set)\n"
      ],
      "metadata": {
        "colab": {
          "base_uri": "https://localhost:8080/"
        },
        "id": "mbWUIxuDSiGZ",
        "outputId": "4715f427-1cd1-4104-b510-bcc744eeb826"
      },
      "execution_count": 23,
      "outputs": [
        {
          "output_type": "stream",
          "name": "stdout",
          "text": [
            "set()\n"
          ]
        }
      ]
    },
    {
      "cell_type": "code",
      "source": [
        "18. #Write a code to remove the element 4 from the set {1, 2, 3, 4}.\n",
        "\n",
        "my_set = {1, 2, 3, 4}\n",
        "my_set.remove(4)\n",
        "print(my_set)\n",
        "\n"
      ],
      "metadata": {
        "colab": {
          "base_uri": "https://localhost:8080/"
        },
        "id": "NnQrzfVhS5hj",
        "outputId": "45acade4-08b6-4503-96c9-abfda64c4ecf"
      },
      "execution_count": 24,
      "outputs": [
        {
          "output_type": "stream",
          "name": "stdout",
          "text": [
            "{1, 2, 3}\n"
          ]
        }
      ]
    },
    {
      "cell_type": "code",
      "source": [
        "19. # Write a code to find the union of two sets {1, 2, 3} and {3, 4, 5}.\n",
        "# Define two sets\n",
        "set1 = {1, 2, 3}\n",
        "set2 = {3, 4, 5}\n",
        "union_set = set1.union(set2)\n",
        "print(\"Union of sets:\", union_set)\n"
      ],
      "metadata": {
        "colab": {
          "base_uri": "https://localhost:8080/"
        },
        "id": "zFlx2jvlTyPh",
        "outputId": "35475a94-6b7f-456b-d459-20649cd11525"
      },
      "execution_count": 25,
      "outputs": [
        {
          "output_type": "stream",
          "name": "stdout",
          "text": [
            "Union of sets: {1, 2, 3, 4, 5}\n"
          ]
        }
      ]
    },
    {
      "cell_type": "code",
      "source": [
        "20. #Write a code to find the intersection of two sets {1, 2, 3} and {2, 3, 4}.\n",
        "set1 = {1, 2, 3}\n",
        "set2 = {2, 3, 4}\n",
        "intersection_set = set1.intersection(set2)\n",
        "print(\"Intersection of sets:\", intersection_set)"
      ],
      "metadata": {
        "colab": {
          "base_uri": "https://localhost:8080/"
        },
        "id": "nSjngLM8UWsm",
        "outputId": "46841a35-f813-41b6-feab-ede3c543c236"
      },
      "execution_count": 26,
      "outputs": [
        {
          "output_type": "stream",
          "name": "stdout",
          "text": [
            "Intersection of sets: {2, 3}\n"
          ]
        }
      ]
    },
    {
      "cell_type": "code",
      "source": [
        "21. #Write a code to create a dictionary with the keys \"name\", \"age\", and \"city\", and print it.\n",
        "# Creating a dictionary\n",
        "my_dict = {\n",
        "    \"name\": \"Anmol Thakur\",\n",
        "    \"age\": 21,\n",
        "    \"city\": \"US\"\n",
        "}\n",
        "\n",
        "# Printing the dictionary\n",
        "print(my_dict)\n"
      ],
      "metadata": {
        "colab": {
          "base_uri": "https://localhost:8080/"
        },
        "id": "8v453e2OUzkw",
        "outputId": "b424d54b-694e-46b1-c4b7-52457a0e4fc2"
      },
      "execution_count": 28,
      "outputs": [
        {
          "output_type": "stream",
          "name": "stdout",
          "text": [
            "{'name': 'Anmol Thakur', 'age': 21, 'city': 'US'}\n"
          ]
        }
      ]
    },
    {
      "cell_type": "code",
      "source": [
        "22. # Write a code to add a new key-value pair \"country\": \"USA\" to the dictionary {'name': 'Anmol', 'age': 21}.\n",
        "my_dict = {'name': 'Anmol', 'age': 21}\n",
        "my_dict['country'] = 'USA'\n",
        "print(my_dict)\n"
      ],
      "metadata": {
        "colab": {
          "base_uri": "https://localhost:8080/"
        },
        "id": "ZZKWHWudVknj",
        "outputId": "b2ec45d6-9d52-4c42-f4a9-bcdf8e5e3d2f"
      },
      "execution_count": 29,
      "outputs": [
        {
          "output_type": "stream",
          "name": "stdout",
          "text": [
            "{'name': 'Anmol', 'age': 21, 'country': 'USA'}\n"
          ]
        }
      ]
    },
    {
      "cell_type": "code",
      "source": [
        "23. # Write a code to access the value associated with the key \"name\" in the dictionary {'name': 'Alice', 'age': 30}.\n",
        "my_dict = {'name': 'Anmol', 'age': 21}\n",
        "name_value = my_dict['name']\n",
        "print(name_value)\n"
      ],
      "metadata": {
        "colab": {
          "base_uri": "https://localhost:8080/"
        },
        "id": "8z4BP79RV78c",
        "outputId": "ebdfc327-4f0c-43db-ad6b-35b49266ce6b"
      },
      "execution_count": 30,
      "outputs": [
        {
          "output_type": "stream",
          "name": "stdout",
          "text": [
            "Anmol\n"
          ]
        }
      ]
    },
    {
      "cell_type": "code",
      "source": [
        "24. # Write a code to remove the key \"age\" from the dictionary {'name': 'Bob', 'age': 22, 'city': 'New York'}.\n",
        "my_dict = {'name': 'Anil', 'age': 19, 'city': 'New York'}\n",
        "del my_dict['age']\n",
        "print(my_dict)\n",
        "#"
      ],
      "metadata": {
        "colab": {
          "base_uri": "https://localhost:8080/"
        },
        "id": "Fy81hpOZWQLQ",
        "outputId": "cc71a01a-ffc3-45d9-a6f6-3a8b72406630"
      },
      "execution_count": 31,
      "outputs": [
        {
          "output_type": "stream",
          "name": "stdout",
          "text": [
            "{'name': 'Anil', 'city': 'New York'}\n"
          ]
        }
      ]
    },
    {
      "cell_type": "code",
      "source": [
        "25. # Write a code to check if the key \"city\" exists in the dictionary {'name': 'Alice', 'city': 'Paris'}\n",
        "my_dict = {'name': 'Anil', 'city': 'Paris'}\n",
        "if 'city' in my_dict:\n",
        "    print(\"Key 'city' exists in the dictionary.\")\n",
        "else:\n",
        "    print(\"Key 'city' does not exist in the dictionary.\")"
      ],
      "metadata": {
        "colab": {
          "base_uri": "https://localhost:8080/"
        },
        "id": "G81QVLHyWgcr",
        "outputId": "61137176-b668-4cf0-cde2-044539460974"
      },
      "execution_count": 32,
      "outputs": [
        {
          "output_type": "stream",
          "name": "stdout",
          "text": [
            "Key 'city' exists in the dictionary.\n"
          ]
        }
      ]
    },
    {
      "cell_type": "code",
      "source": [
        "26. # Write a code to create a list, a tuple, and a dictionary, and print them all.\n",
        "my_list = [1, 2, 3, 4, 5]\n",
        "\n",
        "my_tuple = (10, 20, 30, 40, 50)\n",
        "\n",
        "my_dict = {\n",
        "    \"name\": \"Alice\",\n",
        "    \"age\": 25,\n",
        "    \"city\": \"New York\"\n",
        "}\n",
        "\n",
        "print(\"List:\", my_list)\n",
        "print(\"Tuple:\", my_tuple)\n",
        "print(\"Dictionary:\", my_dict)\n"
      ],
      "metadata": {
        "colab": {
          "base_uri": "https://localhost:8080/"
        },
        "id": "_CcJwKSSWyHn",
        "outputId": "b0dae50b-d357-4045-8b2e-be2969c2cc8e"
      },
      "execution_count": 33,
      "outputs": [
        {
          "output_type": "stream",
          "name": "stdout",
          "text": [
            "List: [1, 2, 3, 4, 5]\n",
            "Tuple: (10, 20, 30, 40, 50)\n",
            "Dictionary: {'name': 'Alice', 'age': 25, 'city': 'New York'}\n"
          ]
        }
      ]
    },
    {
      "cell_type": "code",
      "source": [
        "27. #Write a code to create a list of 5 random numbers between 1 and 100, sort it in ascending order, and print the\n",
        "#result.(replaced)\n",
        "import random\n",
        "random_numbers = [random.randint(1, 100) for _ in range(5)]\n",
        "random_numbers.sort()\n",
        "print(\"Sorted List:\", random_numbers)\n"
      ],
      "metadata": {
        "colab": {
          "base_uri": "https://localhost:8080/"
        },
        "id": "6Q1Ub9LnXGgU",
        "outputId": "6f946ccf-e4ed-4f66-de2e-12b0d88c7d7b"
      },
      "execution_count": 34,
      "outputs": [
        {
          "output_type": "stream",
          "name": "stdout",
          "text": [
            "Sorted List: [27, 31, 39, 74, 95]\n"
          ]
        }
      ]
    },
    {
      "cell_type": "code",
      "source": [
        "28. # Write a code to create a list with strings and print the element at the third index.\n",
        "my_list = [\"apple\", \"banana\", \"cherry\", \"date\", \"elderberry\"]\n",
        "third_element = my_list[2]\n",
        "print(third_element)\n"
      ],
      "metadata": {
        "colab": {
          "base_uri": "https://localhost:8080/"
        },
        "id": "Kx-9FD6XXYMG",
        "outputId": "289773ff-f82c-44af-a7d7-b71be82b5527"
      },
      "execution_count": 35,
      "outputs": [
        {
          "output_type": "stream",
          "name": "stdout",
          "text": [
            "cherry\n"
          ]
        }
      ]
    },
    {
      "cell_type": "code",
      "source": [
        "29. #Write a code to combine two dictionaries into one and print the result.\n",
        "dict1 = {'a': 1, 'b': 2}\n",
        "dict2 = {'c': 3, 'd': 4}\n",
        "combined_dict = {**dict1, **dict2}\n",
        "print(combined_dict)"
      ],
      "metadata": {
        "colab": {
          "base_uri": "https://localhost:8080/"
        },
        "id": "mMAzuPdLXhob",
        "outputId": "5aa040ab-43e4-4f8e-a149-40aca29ebd09"
      },
      "execution_count": 36,
      "outputs": [
        {
          "output_type": "stream",
          "name": "stdout",
          "text": [
            "{'a': 1, 'b': 2, 'c': 3, 'd': 4}\n"
          ]
        }
      ]
    },
    {
      "cell_type": "code",
      "source": [
        "30. #Write a code to convert a list of strings into a set.\n",
        "my_list = [\"apple\", \"banana\", \"cherry\", \"apple\", \"banana\"]\n",
        "\n",
        "my_set = set(my_list)\n",
        "\n",
        "print(\"Set:\", my_set)\n"
      ],
      "metadata": {
        "colab": {
          "base_uri": "https://localhost:8080/"
        },
        "id": "md2KnjT6Xs_g",
        "outputId": "704dc53a-78fe-4185-d216-f40ae48f5aaf"
      },
      "execution_count": 37,
      "outputs": [
        {
          "output_type": "stream",
          "name": "stdout",
          "text": [
            "Set: {'banana', 'apple', 'cherry'}\n"
          ]
        }
      ]
    }
  ]
}